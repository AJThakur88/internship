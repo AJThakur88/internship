{
 "cells": [
  {
   "cell_type": "code",
   "execution_count": 1,
   "id": "930eb030",
   "metadata": {},
   "outputs": [
    {
     "data": {
      "text/plain": [
       "0"
      ]
     },
     "execution_count": 1,
     "metadata": {},
     "output_type": "execute_result"
    }
   ],
   "source": [
    "2//3"
   ]
  },
  {
   "cell_type": "code",
   "execution_count": 3,
   "id": "83054d8b",
   "metadata": {},
   "outputs": [
    {
     "data": {
      "text/plain": [
       "24"
      ]
     },
     "execution_count": 3,
     "metadata": {},
     "output_type": "execute_result"
    }
   ],
   "source": [
    "6<<2"
   ]
  },
  {
   "cell_type": "code",
   "execution_count": 4,
   "id": "507bea3f",
   "metadata": {},
   "outputs": [
    {
     "data": {
      "text/plain": [
       "2"
      ]
     },
     "execution_count": 4,
     "metadata": {},
     "output_type": "execute_result"
    }
   ],
   "source": [
    "6&2"
   ]
  },
  {
   "cell_type": "code",
   "execution_count": 5,
   "id": "b97e95f3",
   "metadata": {},
   "outputs": [
    {
     "data": {
      "text/plain": [
       "6"
      ]
     },
     "execution_count": 5,
     "metadata": {},
     "output_type": "execute_result"
    }
   ],
   "source": [
    "6|2"
   ]
  },
  {
   "cell_type": "code",
   "execution_count": 8,
   "id": "518bb3de",
   "metadata": {},
   "outputs": [
    {
     "data": {
      "text/plain": [
       "['False',\n",
       " 'None',\n",
       " 'True',\n",
       " '__peg_parser__',\n",
       " 'and',\n",
       " 'as',\n",
       " 'assert',\n",
       " 'async',\n",
       " 'await',\n",
       " 'break',\n",
       " 'class',\n",
       " 'continue',\n",
       " 'def',\n",
       " 'del',\n",
       " 'elif',\n",
       " 'else',\n",
       " 'except',\n",
       " 'finally',\n",
       " 'for',\n",
       " 'from',\n",
       " 'global',\n",
       " 'if',\n",
       " 'import',\n",
       " 'in',\n",
       " 'is',\n",
       " 'lambda',\n",
       " 'nonlocal',\n",
       " 'not',\n",
       " 'or',\n",
       " 'pass',\n",
       " 'raise',\n",
       " 'return',\n",
       " 'try',\n",
       " 'while',\n",
       " 'with',\n",
       " 'yield']"
      ]
     },
     "execution_count": 8,
     "metadata": {},
     "output_type": "execute_result"
    }
   ],
   "source": [
    "import keyword\n",
    "a=keyword.kwlist\n",
    "a"
   ]
  },
  {
   "cell_type": "raw",
   "id": "2a7264e7",
   "metadata": {},
   "source": [
    "Factorial of a whole number 'n' is defined as the product of that number with every whole number till 1. For example, the factorial of 4 is 4×3×2×1, which is equal to 24. "
   ]
  },
  {
   "cell_type": "code",
   "execution_count": 3,
   "id": "7126e593",
   "metadata": {},
   "outputs": [
    {
     "name": "stdout",
     "output_type": "stream",
     "text": [
      "Enter Number: 4\n",
      "Factorial of 4 is 24\n"
     ]
    }
   ],
   "source": [
    "import math\n",
    "def factorial(a):\n",
    "    return(math.factorial(a))\n",
    "num = int(input('Enter Number: '))\n",
    "print('Factorial of', num, 'is', factorial(num))"
   ]
  },
  {
   "cell_type": "raw",
   "id": "49970899",
   "metadata": {},
   "source": [
    "A prime number is a number which has exactly two factors i.e. ‘1’ and the number itself. A composite number has more than two factors, which means apart from getting divided by 1 and the number itself, it can also be divided by at least one positive integer. 1 is not a prime or composite number. "
   ]
  },
  {
   "cell_type": "code",
   "execution_count": 14,
   "id": "32652c73",
   "metadata": {},
   "outputs": [
    {
     "name": "stdout",
     "output_type": "stream",
     "text": [
      "Enter Number 7\n",
      "7 is a PRIME number\n"
     ]
    }
   ],
   "source": [
    "num = int(input('Enter Number '))\n",
    "if num > 1:\n",
    "    for i in range(2, num):\n",
    "        if (num % i) == 0:\n",
    "            print(num, \"is a Composite number\")\n",
    "            break\n",
    "    else:\n",
    "        print(num, \"is a PRIME number\")\n",
    "elif num == 0 or 1:\n",
    "    print(num, \"is neither a prime NOR a composite number\")"
   ]
  },
  {
   "cell_type": "raw",
   "id": "277b8d69",
   "metadata": {},
   "source": [
    "A string is called a palindrome string if the reverse of that string is the same as the original string."
   ]
  },
  {
   "cell_type": "code",
   "execution_count": 11,
   "id": "dba1035f",
   "metadata": {},
   "outputs": [
    {
     "name": "stdout",
     "output_type": "stream",
     "text": [
      "Enter a string: Was it a car or a cat I saw\n",
      "True\n"
     ]
    }
   ],
   "source": [
    "original = input('Enter a string: ')\n",
    "def palindrome(string):\n",
    "    string = string.lower().replace(' ', '')\n",
    "    reversed = ''\n",
    "    for i in range(len(string), 0, -1):\n",
    "        reversed += string[i-1]\n",
    "    return string == reversed\n",
    "print(palindrome(original))"
   ]
  },
  {
   "cell_type": "raw",
   "id": "cf269b5a",
   "metadata": {},
   "source": [
    "The Pythagoras theorem states that if a triangle is right-angled (90 degrees), then the square of the hypotenuse is equal to the sum of the squares of the other two sides."
   ]
  },
  {
   "cell_type": "code",
   "execution_count": 23,
   "id": "2d24f8d8",
   "metadata": {},
   "outputs": [
    {
     "name": "stdout",
     "output_type": "stream",
     "text": [
      "5.0\n"
     ]
    }
   ],
   "source": [
    "import math\n",
    "\n",
    "def pythagoras(a,b):\n",
    "    sum_of_squares = a * a + b * b\n",
    "    c = math.sqrt(sum_of_squares)\n",
    "    \n",
    "    return c\n",
    "\n",
    "c = pythagoras(3,4)\n",
    "\n",
    "print(c)"
   ]
  },
  {
   "cell_type": "code",
   "execution_count": 31,
   "id": "00cf03f0",
   "metadata": {},
   "outputs": [
    {
     "name": "stdout",
     "output_type": "stream",
     "text": [
      "Enter any string: I am excited\n",
      "Enter character to check frequency: e\n",
      "e occurs 2 times\n"
     ]
    }
   ],
   "source": [
    "string = input('Enter any string: ')\n",
    "frequency = input('Enter character to check frequency: ')\n",
    "count = 0\n",
    "\n",
    "for i in string:\n",
    "    if i == frequency:\n",
    "        count += 1\n",
    "print(frequency, 'occurs', count, 'times')"
   ]
  },
  {
   "cell_type": "code",
   "execution_count": null,
   "id": "13b414b9",
   "metadata": {},
   "outputs": [],
   "source": []
  }
 ],
 "metadata": {
  "kernelspec": {
   "display_name": "Python 3 (ipykernel)",
   "language": "python",
   "name": "python3"
  },
  "language_info": {
   "codemirror_mode": {
    "name": "ipython",
    "version": 3
   },
   "file_extension": ".py",
   "mimetype": "text/x-python",
   "name": "python",
   "nbconvert_exporter": "python",
   "pygments_lexer": "ipython3",
   "version": "3.9.7"
  }
 },
 "nbformat": 4,
 "nbformat_minor": 5
}
